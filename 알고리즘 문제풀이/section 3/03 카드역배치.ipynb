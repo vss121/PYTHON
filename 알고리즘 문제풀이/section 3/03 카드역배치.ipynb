{
 "cells": [
  {
   "cell_type": "markdown",
   "id": "f5b222b3",
   "metadata": {},
   "source": [
    "## 잘못 푼 풀이\n",
    "#### 카드를 내림차순이 아니라 역순으로 정렬해야 한다."
   ]
  },
  {
   "cell_type": "code",
   "execution_count": null,
   "id": "e80434ce",
   "metadata": {},
   "outputs": [],
   "source": [
    "import sys\n",
    "sys.stdin=open(\"C:/Users/ykkim/github/PYTHON/알고리즘 문제풀이/section 3/input.txt\",\"rt\")\n",
    "arr=[i for i in range(1,21)]\n",
    "for i in range(10):\n",
    "    a,b= map(int, input().split())\n",
    "    arr[a-1:b]=sorted(arr[a-1:b],reverse=True)\n",
    "    print(arr)\n",
    "\n",
    "for x in arr:\n",
    "    print(x, end=' ')"
   ]
  },
  {
   "cell_type": "markdown",
   "id": "96aefc58",
   "metadata": {},
   "source": [
    "## 내 풀이 (답O)\n",
    "#### 첫 번째 카드는 arr[0] 이런식으로 계산하였다 -> 조금 더 많이 생각해야함"
   ]
  },
  {
   "cell_type": "code",
   "execution_count": null,
   "id": "2e4cc267",
   "metadata": {},
   "outputs": [],
   "source": [
    "import sys\n",
    "sys.stdin=open(\"C:/Users/ykkim/github/PYTHON/알고리즘 문제풀이/section 3/input.txt\",\"rt\")\n",
    "arr=[i for i in range(1,21)]\n",
    "for i in range(10):\n",
    "    a,b= map(int, input().split())  # a번째~b번째 = arr[a-1:b]\n",
    "    for j in range((b-a+1)//2):\n",
    "        arr[a-1+j], arr[b-1-j] = arr[b-1-j], arr[a-1+j]\n",
    "\n",
    "for x in arr:\n",
    "    print(x, end=' ')"
   ]
  },
  {
   "cell_type": "markdown",
   "id": "b71d1ceb",
   "metadata": {},
   "source": [
    "## 답안\n",
    "#### arr[0]=0 (사용 안 함)으로 해놓고 첫 번째 카드는 arr[1], ... 으로 초기화 하자"
   ]
  },
  {
   "cell_type": "code",
   "execution_count": null,
   "id": "ffb3cc81",
   "metadata": {},
   "outputs": [],
   "source": [
    "import sys\n",
    "sys.stdin=open(\"C:/Users/ykkim/github/PYTHON/알고리즘 문제풀이/section 3/input.txt\",\"rt\")\n",
    "arr=list(range(21))\n",
    "for _ in range(10):\n",
    "    a,b= map(int, input().split())\n",
    "    for i in range((b-a+1)//2):\n",
    "        arr[a+i], arr[b-i] = arr[b-i], arr[a+i]\n",
    "a.pop(0)    # 0번 index를 pop\n",
    "for x in arr:\n",
    "    print(x, end=' ')"
   ]
  },
  {
   "cell_type": "code",
   "execution_count": null,
   "id": "1469bd15",
   "metadata": {},
   "outputs": [],
   "source": [
    "# sort와 sorted 차이"
   ]
  }
 ],
 "metadata": {
  "kernelspec": {
   "display_name": "Python 3.7.9 64-bit",
   "language": "python",
   "name": "python3"
  },
  "language_info": {
   "codemirror_mode": {
    "name": "ipython",
    "version": 3
   },
   "file_extension": ".py",
   "mimetype": "text/x-python",
   "name": "python",
   "nbconvert_exporter": "python",
   "pygments_lexer": "ipython3",
   "version": "3.7.9"
  },
  "vscode": {
   "interpreter": {
    "hash": "d5d533650451db4cab24f116669b56df6f4787dfe6e411ff16327d48ed66112b"
   }
  }
 },
 "nbformat": 4,
 "nbformat_minor": 5
}
