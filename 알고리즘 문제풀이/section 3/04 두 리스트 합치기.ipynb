{
 "cells": [
  {
   "cell_type": "markdown",
   "metadata": {},
   "source": [
    "# and 와 &는 다르다!!!!!!!!\n",
    "- and : 논리 연산자\n",
    "- & : 비트연산자\n",
    "\n",
    "- (p1<n and p2<m) 와 (p1<n & p2<m) 은 다름"
   ]
  },
  {
   "cell_type": "markdown",
   "metadata": {},
   "source": [
    "### arr.sort()  # 원본 정렬 (in-place)\n",
    "### sorted(arr) # 원본 유지\n",
    "\n",
    "### sort의 시간복잡도 : nlogn\n",
    "### 이미 정렬되어있는 것을 정렬할 때는 : n "
   ]
  },
  {
   "cell_type": "code",
   "execution_count": null,
   "metadata": {},
   "outputs": [],
   "source": [
    "import sys\n",
    "sys.stdin=open(\"C:/Users/ykkim/github/PYTHON/알고리즘 문제풀이/section 3/input.txt\",\"rt\")\n",
    "n = int(input())\n",
    "a = list(map(int, input().split()))\n",
    "m = int(input())\n",
    "b = list(map(int, input().split()))\n",
    "p1=p2=0\n",
    "c=[]\n",
    "\n",
    "while(p1<n and p2<m):\n",
    "    if a[p1]<=b[p2]:\n",
    "        c.append(a[p1])\n",
    "        p1+=1\n",
    "    else:\n",
    "        c.append(b[p2])\n",
    "        p2+=1\n",
    "\n",
    "# 나머지 붙이기\n",
    "if p1==n:   # p2<m\n",
    "    c+=b[p2:]\n",
    "if p2==m: # p1<n\n",
    "    c+=a[p1:]\n",
    "\n",
    "for x in c:\n",
    "    print(x, end=' ')"
   ]
  },
  {
   "cell_type": "markdown",
   "metadata": {},
   "source": [
    "#### 번외"
   ]
  },
  {
   "cell_type": "code",
   "execution_count": 1,
   "metadata": {},
   "outputs": [],
   "source": [
    "import sys\n",
    "sys.stdin=open(\"C:/Users/ykkim/github/PYTHON/알고리즘 문제풀이/section 3/input.txt\",\"rt\")\n",
    "n = int(input())\n",
    "a = list(map(int, input().split()))\n",
    "m = int(input())\n",
    "b = list(map(int, input().split()))\n",
    "\n",
    "c=a+b\n",
    "c.sort()\n",
    "print(c)"
   ]
  }
 ],
 "metadata": {
  "kernelspec": {
   "display_name": "Python 3 (ipykernel)",
   "language": "python",
   "name": "python3"
  },
  "language_info": {
   "codemirror_mode": {
    "name": "ipython",
    "version": 3
   },
   "file_extension": ".py",
   "mimetype": "text/x-python",
   "name": "python",
   "nbconvert_exporter": "python",
   "pygments_lexer": "ipython3",
   "version": "3.7.9"
  },
  "vscode": {
   "interpreter": {
    "hash": "d5d533650451db4cab24f116669b56df6f4787dfe6e411ff16327d48ed66112b"
   }
  }
 },
 "nbformat": 4,
 "nbformat_minor": 2
}
