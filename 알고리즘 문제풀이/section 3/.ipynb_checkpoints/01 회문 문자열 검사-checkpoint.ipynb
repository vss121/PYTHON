{
 "cells": [
  {
   "cell_type": "markdown",
   "id": "ac647287",
   "metadata": {},
   "source": [
    "# 풀이1 (내 풀이)"
   ]
  },
  {
   "cell_type": "code",
   "execution_count": 2,
   "id": "803acb5a",
   "metadata": {},
   "outputs": [
    {
     "name": "stdout",
     "output_type": "stream",
     "text": [
      "1\n",
      "Goog\n",
      "#1 YES\n"
     ]
    }
   ],
   "source": [
    "import sys\n",
    "sys.stdin=open(\"C:/Users/ykkim/github/PYTHON/알고리즘 문제풀이/section 3/input.txt\",\"rt\")\n",
    "\n",
    "n=int(input())\n",
    "for i in range(n):\n",
    "    s=input()\n",
    "    s=s.lower()\n",
    "    if s==s[::-1]:  # 문자열을 배열처럼 고려해서 뒤집기\n",
    "        print(f\"#{i+1} YES\")\n",
    "    else:\n",
    "        print(f\"#{i+1} NO\")"
   ]
  },
  {
   "cell_type": "markdown",
   "id": "5c470824",
   "metadata": {},
   "source": [
    "# 풀이2 (해설)"
   ]
  },
  {
   "cell_type": "code",
   "execution_count": null,
   "id": "85c9fe79",
   "metadata": {},
   "outputs": [],
   "source": [
    "import sys\n",
    "sys.stdin=open(\"C:/Users/ykkim/github/PYTHON/알고리즘 문제풀이/section 3/input.txt\",\"rt\")\n",
    "\n",
    "n = int(input())\n",
    "for i in range(n):\n",
    "    s=input()\n",
    "    s=s.lower()\n",
    "    size=len(s)\n",
    "    for j in range(size//2):   # 문자를 \"직접\" 비교\n",
    "        if s[j]!=s[-1-j]:   # list의 index 접근을 뒤부터 -1, -2, ...로도 가능\n",
    "            print(f\"#{i+1} NO\") # print(\"#%d NO\" % (i+1))\n",
    "            break\n",
    "    else:\n",
    "        print(f\"#{i+1} YES\")"
   ]
  }
 ],
 "metadata": {
  "kernelspec": {
   "display_name": "Python 3 (ipykernel)",
   "language": "python",
   "name": "python3"
  },
  "language_info": {
   "codemirror_mode": {
    "name": "ipython",
    "version": 3
   },
   "file_extension": ".py",
   "mimetype": "text/x-python",
   "name": "python",
   "nbconvert_exporter": "python",
   "pygments_lexer": "ipython3",
   "version": "3.7.9"
  }
 },
 "nbformat": 4,
 "nbformat_minor": 5
}
