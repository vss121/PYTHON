{
 "cells": [
  {
   "cell_type": "code",
   "execution_count": null,
   "metadata": {},
   "outputs": [],
   "source": [
    "import sys\n",
    "#sys.stdin=open(\"C:/Users/ykkim/github/PYTHON/알고리즘 문제풀이/section 3/input.txt\",\"rt\")\n",
    "n,m =map(int, input().split())\n",
    "cnt=0\n",
    "a = list(map(int, input().split()))\n",
    "#print(a)\n",
    "for i in range(n):\n",
    "    #print(i)\n",
    "    sum=0\n",
    "    while(sum<m):\n",
    "        sum+=a[i]\n",
    "        i+=1\n",
    "        if i==n:\n",
    "            break\n",
    "    if sum==m:\n",
    "        cnt+=1\n",
    "print(cnt)"
   ]
  }
 ],
 "metadata": {
  "kernelspec": {
   "display_name": "Python 3.7.9 64-bit",
   "language": "python",
   "name": "python3"
  },
  "language_info": {
   "name": "python",
   "version": "3.7.9"
  },
  "orig_nbformat": 4,
  "vscode": {
   "interpreter": {
    "hash": "d5d533650451db4cab24f116669b56df6f4787dfe6e411ff16327d48ed66112b"
   }
  }
 },
 "nbformat": 4,
 "nbformat_minor": 2
}
