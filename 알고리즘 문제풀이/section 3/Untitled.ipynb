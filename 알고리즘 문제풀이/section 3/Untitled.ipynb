{
 "cells": [
  {
   "cell_type": "markdown",
   "id": "2734e377",
   "metadata": {},
   "source": [
    "# 풀이1 (내 풀이)"
   ]
  },
  {
   "cell_type": "code",
   "execution_count": 2,
   "id": "38a8b897",
   "metadata": {},
   "outputs": [
    {
     "name": "stdout",
     "output_type": "stream",
     "text": [
      "1\n",
      "Goog\n",
      "#1 YES\n"
     ]
    }
   ],
   "source": [
    "import sys\n",
    "sys.stdin=open(\"C:/Users/ykkim/github/PYTHON/알고리즘 문제풀이/section 3/input.txt\",\"rt\")\n",
    "\n",
    "n = int(input())\n",
    "for i in range(n):\n",
    "    s=input()\n",
    "    s = s.lower()\n",
    "    print(f\"#{i+1}\", end=' ')\n",
    "    if s==s[::-1]:\n",
    "        print(\"YES\")\n",
    "    else:\n",
    "        print(\"NO\")"
   ]
  },
  {
   "cell_type": "markdown",
   "id": "2b64a131",
   "metadata": {},
   "source": [
    "# 풀이2 (해설)"
   ]
  },
  {
   "cell_type": "code",
   "execution_count": null,
   "id": "5e0b25a5",
   "metadata": {},
   "outputs": [],
   "source": [
    "import sys\n",
    "sys.stdin=open(\"C:/Users/ykkim/github/PYTHON/알고리즘 문제풀이/section 3/input.txt\",\"rt\")\n",
    "\n",
    "n = int(input())\n",
    "for i in range(n):\n",
    "    s=input()\n",
    "    s = s.lower()\n",
    "    size = len(s)\n",
    "    for j in size//2    #문자열 안에서 직접 비교\n",
    "        if s[j]==s[size-j]:\n",
    "            "
   ]
  }
 ],
 "metadata": {
  "kernelspec": {
   "display_name": "Python 3 (ipykernel)",
   "language": "python",
   "name": "python3"
  },
  "language_info": {
   "codemirror_mode": {
    "name": "ipython",
    "version": 3
   },
   "file_extension": ".py",
   "mimetype": "text/x-python",
   "name": "python",
   "nbconvert_exporter": "python",
   "pygments_lexer": "ipython3",
   "version": "3.7.9"
  }
 },
 "nbformat": 4,
 "nbformat_minor": 5
}
