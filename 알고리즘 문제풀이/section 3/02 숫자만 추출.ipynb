{
 "cells": [
  {
   "cell_type": "markdown",
   "metadata": {},
   "source": [
    "# 풀이1 (해설)"
   ]
  },
  {
   "cell_type": "code",
   "execution_count": 1,
   "metadata": {},
   "outputs": [],
   "source": [
    "import sys\n",
    "sys.stdin=open(\"C:/Users/ykkim/github/PYTHON/알고리즘 문제풀이/section 3/input.txt\",\"rt\")\n",
    "#숫자 추출\n",
    "res = 0\n",
    "s = input()\n",
    "for x in s:\n",
    "    if x.isdecimal():\n",
    "        res=res*10+int(x)   # 앞자리부터 순서대로 추출해 수 만들기\n",
    "print(res)\n",
    "\n",
    "#약수\n",
    "cnt=0\n",
    "for i in range(1,res+1):\n",
    "    if res%i==0:\n",
    "        cnt+=1\n",
    "print(cnt)"
   ]
  },
  {
   "cell_type": "markdown",
   "metadata": {},
   "source": [
    "### 기억할 부분\n",
    "#### res=res*10+int(x)   # 앞자리부터 순서대로 추출해 수 만들기"
   ]
  },
  {
   "cell_type": "markdown",
   "metadata": {},
   "source": [
    "# 풀이2 (me)"
   ]
  },
  {
   "cell_type": "code",
   "execution_count": null,
   "metadata": {},
   "outputs": [],
   "source": [
    "import sys\n",
    "sys.stdin=open(\"C:/Users/ykkim/github/PYTHON/알고리즘 문제풀이/section 3/input.txt\",\"rt\")\n",
    "#숫자 추출\n",
    "arr = []\n",
    "num = 0\n",
    "s = input()\n",
    "for x in s:\n",
    "    if x.isdecimal():   # 0~9의 수\n",
    "        arr.append(x)\n",
    "for j in range(len(arr)):\n",
    "    num += int(arr[-1*(j+1)])*(10**j)\n",
    "print(num)\n",
    "\n",
    "#약수\n",
    "cnt=0\n",
    "for i in range(1,num+1):\n",
    "    if num%i==0:\n",
    "        cnt+=1\n",
    "print(cnt)"
   ]
  }
 ],
 "metadata": {
  "kernelspec": {
   "display_name": "Python 3.7.9 64-bit",
   "language": "python",
   "name": "python3"
  },
  "language_info": {
   "codemirror_mode": {
    "name": "ipython",
    "version": 3
   },
   "file_extension": ".py",
   "mimetype": "text/x-python",
   "name": "python",
   "nbconvert_exporter": "python",
   "pygments_lexer": "ipython3",
   "version": "3.7.9"
  },
  "orig_nbformat": 4,
  "vscode": {
   "interpreter": {
    "hash": "d5d533650451db4cab24f116669b56df6f4787dfe6e411ff16327d48ed66112b"
   }
  }
 },
 "nbformat": 4,
 "nbformat_minor": 2
}
