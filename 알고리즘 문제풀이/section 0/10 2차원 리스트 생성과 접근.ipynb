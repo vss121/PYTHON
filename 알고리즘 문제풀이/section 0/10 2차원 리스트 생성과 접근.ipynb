{
 "cells": [
  {
   "cell_type": "markdown",
   "id": "e5e0df3f",
   "metadata": {},
   "source": [
    "# 1차원 list를 0으로 초기화"
   ]
  },
  {
   "cell_type": "code",
   "execution_count": 1,
   "id": "bfea7c83",
   "metadata": {},
   "outputs": [
    {
     "name": "stdout",
     "output_type": "stream",
     "text": [
      "[0, 0, 0]\n"
     ]
    }
   ],
   "source": [
    "a=[0]*3\n",
    "print(a)"
   ]
  },
  {
   "cell_type": "markdown",
   "id": "21a78e11",
   "metadata": {},
   "source": [
    "# 2차원 list를 0으로 초기화"
   ]
  },
  {
   "cell_type": "code",
   "execution_count": 2,
   "id": "ce47e527",
   "metadata": {},
   "outputs": [
    {
     "name": "stdout",
     "output_type": "stream",
     "text": [
      "[[0, 0, 0], [0, 0, 0], [0, 0, 0]]\n"
     ]
    }
   ],
   "source": [
    "a=[[0]*3 for _ in range(3)]\n",
    "print(a)"
   ]
  },
  {
   "cell_type": "markdown",
   "id": "e3bbbd95",
   "metadata": {},
   "source": [
    "# 2차원 list의 값에 접근"
   ]
  },
  {
   "cell_type": "code",
   "execution_count": 3,
   "id": "b97ede65",
   "metadata": {},
   "outputs": [
    {
     "name": "stdout",
     "output_type": "stream",
     "text": [
      "[[0, 1, 0], [0, 2, 0], [0, 0, 0]]\n"
     ]
    }
   ],
   "source": [
    "a[0][1]=1\n",
    "a[1][1]=2\n",
    "print(a)"
   ]
  },
  {
   "cell_type": "markdown",
   "id": "b098d12b",
   "metadata": {},
   "source": [
    "# 2차원 list 출력"
   ]
  },
  {
   "cell_type": "code",
   "execution_count": 4,
   "id": "c30d827a",
   "metadata": {},
   "outputs": [
    {
     "name": "stdout",
     "output_type": "stream",
     "text": [
      "[0, 1, 0]\n",
      "[0, 2, 0]\n",
      "[0, 0, 0]\n",
      "0 1 0 \n",
      "0 2 0 \n",
      "0 0 0 \n"
     ]
    }
   ],
   "source": [
    "for x in a:\n",
    "    print(x)\n",
    "\n",
    "for x in a:\n",
    "    for y in x:\n",
    "        print(y, end=' ')\n",
    "    print()"
   ]
  },
  {
   "cell_type": "code",
   "execution_count": null,
   "id": "93f19558",
   "metadata": {},
   "outputs": [],
   "source": []
  }
 ],
 "metadata": {
  "kernelspec": {
   "display_name": "Python 3 (ipykernel)",
   "language": "python",
   "name": "python3"
  },
  "language_info": {
   "codemirror_mode": {
    "name": "ipython",
    "version": 3
   },
   "file_extension": ".py",
   "mimetype": "text/x-python",
   "name": "python",
   "nbconvert_exporter": "python",
   "pygments_lexer": "ipython3",
   "version": "3.7.9"
  }
 },
 "nbformat": 4,
 "nbformat_minor": 5
}
