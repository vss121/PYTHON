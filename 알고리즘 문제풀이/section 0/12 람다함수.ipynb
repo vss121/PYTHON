{
 "cells": [
  {
   "cell_type": "code",
   "execution_count": 3,
   "id": "9fca0cef",
   "metadata": {},
   "outputs": [],
   "source": [
    "# 람다표현식이 아닌 경우\n",
    "def plus_one(x):\n",
    "    return x+1"
   ]
  },
  {
   "cell_type": "code",
   "execution_count": 2,
   "id": "3cda51d4",
   "metadata": {},
   "outputs": [
    {
     "name": "stdout",
     "output_type": "stream",
     "text": [
      "3\n"
     ]
    }
   ],
   "source": [
    "# 람다표현식\n",
    "plus_two = lambda x: x+2\n",
    "print(plus_two(1))"
   ]
  },
  {
   "cell_type": "code",
   "execution_count": 4,
   "id": "9d089662",
   "metadata": {},
   "outputs": [
    {
     "name": "stdout",
     "output_type": "stream",
     "text": [
      "[2, 3, 4]\n",
      "[2, 3, 4]\n"
     ]
    }
   ],
   "source": [
    "a=[1,2,3]\n",
    "print(list(map(plus_one, a)))  #map(함수명, 자료)\n",
    "print(list(map(lambda x: x+1, a)))"
   ]
  },
  {
   "cell_type": "code",
   "execution_count": null,
   "id": "971d6919",
   "metadata": {},
   "outputs": [],
   "source": []
  }
 ],
 "metadata": {
  "kernelspec": {
   "display_name": "Python 3 (ipykernel)",
   "language": "python",
   "name": "python3"
  },
  "language_info": {
   "codemirror_mode": {
    "name": "ipython",
    "version": 3
   },
   "file_extension": ".py",
   "mimetype": "text/x-python",
   "name": "python",
   "nbconvert_exporter": "python",
   "pygments_lexer": "ipython3",
   "version": "3.7.9"
  }
 },
 "nbformat": 4,
 "nbformat_minor": 5
}
