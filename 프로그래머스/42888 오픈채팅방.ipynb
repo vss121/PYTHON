{
 "cells": [
  {
   "cell_type": "markdown",
   "metadata": {},
   "source": [
    "# 내 풀이"
   ]
  },
  {
   "cell_type": "code",
   "execution_count": null,
   "metadata": {},
   "outputs": [],
   "source": [
    "def solution(record):\n",
    "    #딕셔너리에 이름 처리하기\n",
    "    name={}\n",
    "    for i in range(len(record)):\n",
    "        if record[i][0] == 'L':\n",
    "            continue\n",
    "        id_name = record[i].split()\n",
    "        name[id_name[1]] = id_name[2]\n",
    "\n",
    "    #answer(리스트)에 출력 메세지 넣기\n",
    "    answer = []\n",
    "    for i in range(len(record)):\n",
    "        if record[i][0] == 'E':\n",
    "            answer.append(f\"{name[record[i].split()[1]]}님이 들어왔습니다.\")\n",
    "        elif record[i][0] == 'L':\n",
    "            answer.append(f\"{name[record[i].split()[1]]}님이 나갔습니다.\")\n",
    "\n",
    "    return answer\n",
    "\n",
    "#record = [\"Enter uid1234 Muzi\", \"Enter uid4567 Prodo\",\"Leave uid1234\",\"Enter uid1234 Prodo\",\"Change uid4567 Ryan\"]\n",
    "#print(solution(record))"
   ]
  },
  {
   "cell_type": "markdown",
   "metadata": {},
   "source": [
    "# 다른 풀이"
   ]
  },
  {
   "cell_type": "code",
   "execution_count": null,
   "metadata": {},
   "outputs": [],
   "source": [
    "def solution(record):\n",
    "    answer=[]\n",
    "    name={}\n",
    "    printer={'Enter':'님이 들어왔습니다.', 'Leave':'님이 나갔습니다.'}\n",
    "    for r in record:\n",
    "        rr = r.split(' ')\n",
    "        if rr[0] in ['Enter', 'Change']:    #이름 update\n",
    "            name[rr[1]] = rr[2]\n",
    "    \n",
    "    for r in record:\n",
    "        rr = r.split(' ')\n",
    "        if rr[0] != 'Change':\n",
    "            answer.append(name[rr[1]]+printer[rr[0]])\n",
    "\n",
    "    return answer\n",
    "\n",
    "record = [\"Enter uid1234 Muzi\", \"Enter uid4567 Prodo\",\"Leave uid1234\",\"Enter uid1234 Prodo\",\"Change uid4567 Ryan\"]\n",
    "print(solution(record))"
   ]
  }
 ],
 "metadata": {
  "kernelspec": {
   "display_name": "Python 3.7.9 64-bit",
   "language": "python",
   "name": "python3"
  },
  "language_info": {
   "name": "python",
   "version": "3.7.9"
  },
  "orig_nbformat": 4,
  "vscode": {
   "interpreter": {
    "hash": "d5d533650451db4cab24f116669b56df6f4787dfe6e411ff16327d48ed66112b"
   }
  }
 },
 "nbformat": 4,
 "nbformat_minor": 2
}
